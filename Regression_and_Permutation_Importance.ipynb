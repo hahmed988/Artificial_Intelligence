{
  "nbformat": 4,
  "nbformat_minor": 0,
  "metadata": {
    "colab": {
      "name": "Copy of 02_Regression_and_Permutation_Importance.ipynb",
      "provenance": [],
      "collapsed_sections": [],
      "include_colab_link": true
    },
    "kernelspec": {
      "name": "python3",
      "display_name": "Python 3"
    },
    "accelerator": "GPU"
  },
  "cells": [
    {
      "cell_type": "markdown",
      "metadata": {
        "id": "view-in-github",
        "colab_type": "text"
      },
      "source": [
        "<a href=\"https://colab.research.google.com/github/hahmed988/Artificial_Intelligence/blob/master/Regression_and_Permutation_Importance.ipynb\" target=\"_parent\"><img src=\"https://colab.research.google.com/assets/colab-badge.svg\" alt=\"Open In Colab\"/></a>"
      ]
    },
    {
      "cell_type": "markdown",
      "metadata": {
        "id": "JY_9EgOq_Wu-",
        "colab_type": "text"
      },
      "source": [
        "# 02 - Tabular Regression and Permutation Importance"
      ]
    },
    {
      "cell_type": "markdown",
      "metadata": {
        "id": "MoQa_Hqt_rH0",
        "colab_type": "text"
      },
      "source": [
        "## Rossmann"
      ]
    },
    {
      "cell_type": "markdown",
      "metadata": {
        "id": "X-WC8NrT_imO",
        "colab_type": "text"
      },
      "source": [
        "Rossmann's Kaggle competition was a business sales prediction competition for $35,000 dollars to the winners.\n",
        "\n",
        "The premise is that we're given the sales data and information of their stores for the past few years. We need to make a model that can predict the number of sales that will be made in the future.\n",
        "\n",
        "We can do this through a tabular regression model."
      ]
    },
    {
      "cell_type": "markdown",
      "metadata": {
        "id": "a236Lx5Y_uwY",
        "colab_type": "text"
      },
      "source": [
        "Jeremy walks through feature engineering for this problem, for today though we will download a clean engineered dataset straight from Kaggle. To download it:\n",
        "1. Go to: https://www.kaggle.com/init27/fastai-v3-rossman-data-clean\n",
        "2. Go to `output`\n",
        "3. Right click the download button\n",
        "4. Click \"copy link location\" for both train and test\n",
        "5. `!wget {url}`\n",
        "\n",
        "(Note: to walk through the feature engineering, see [this](https://github.com/fastai/fastai2/blob/master/nbs/course/rossman_data_clean.ipynb) notebook)"
      ]
    },
    {
      "cell_type": "code",
      "metadata": {
        "id": "t1PeAEMS_N1X",
        "colab_type": "code",
        "colab": {}
      },
      "source": [
        "train = 'https://www.kaggleusercontent.com/kf/10297001/eyJhbGciOiJkaXIiLCJlbmMiOiJBMTI4Q0JDLUhTMjU2In0.._e2IZcTfSmSCCEY2Y0lStw.YlIPSDfZ8B_r8XZ-sepJaB4ykxkOqUuEYrqAqMkuP7C4Asrs3J5zgFqTgv11mPYlp3eTlklXoRvjORpQKKsq7YDM3Zgh_vVDPdE1FffEguazWsHqP0huweiIMT-riv8I3s3Pj_zWzTNASf_r1K3zjylIZENi3rjwDI0X1lDJ4QFFkYcX6SUwRzRJmv1FlJ5sGehopnWlPz79i-PftsIS4YhgoJIlCugUbFoaV8SUOQVN9Jd0ST7-fQ7-VSpUel7ucFYpJTVW6Rev_rx_X9hy4XOjRYS5FNf-9CJ3J4VdNininUCy8lEP2iri5uwsMi-duidobPTqHVyRwTg08BccaRQvy_8YZRtUwiXPLAQemMtbkJLQU5VajaP2wREjib5KnnAr3Ek55c8Ouf2cOnA5nEO4FdlxZu8fgs3DlCVHJsy0gBo13NfWwmIhP1-ocEgzNeO7KfVw4ua8K0Mibwm8RQBGgOPiNmyYFcMOYwuSnMT6_Z1v_GEIArcK3fXNVHGck6HVYprCbuksPDWlRYFW_fnkyVN1VdW2EkT4mjYyMTZh5o-yk_0mfk8De1N1laX41OLaXMvjwA76HKBHhD77RlZ-f4LbXzfpWS6tXLBJZXxDM9TDpCcJVhCUBT4r1V_vDfWUDddmYPUMxb1Qtc2lwZt3cHUErG_s3GRXXX9LhlU.5oSKSWZbeZF5WCX3pZikcQ/train_clean'\n",
        "test = 'https://www.kaggleusercontent.com/kf/10297001/eyJhbGciOiJkaXIiLCJlbmMiOiJBMTI4Q0JDLUhTMjU2In0..H7cEt3nkiuzXYrLULnLaeA.zzE5x5XpKOiPodSXj4gQXyprlfhEl2AcpsiE1X6MNCIIvbNzet2lNUGzt2bhX_MNWEFZP7Y0XN1UEXdLdtKOpyvtRUmtDOkF82goMFkjkZgLtvJdQXksidCH-MFkj6OzUZECwzYT1G3ioIveqtKjHYV-XXahJU5YclwQKyACPAj0uRdbn7Q0GmW6gx7eMVgtrNFJcnxy1AhyltML3QyXr4I8dP2O_5zwawvVNHOyHE8bKdyb5ia05WMQALLCckNQkY2dd4RAlmFjoSvawf_C7_zZDIhLvSeyD1snw6EvSNRaDv1LpAqJIdKk-Hj6uDfoy64J3lCemSqaVafOjtQVmn4bGlj-3Xs8mp3CtCONe2wEg67yA_uLTHaVBl0lYgWuUfEnwUaIAQGqc1J2-HMzVyzxqjcH5qJ9o80rHiIdt-Tf2iP-CAcp0DfKgHa8MnaY-WkmFBzycerhoLlrLoMcxPEn3ERXuGfzS8sarYMELgVJnl7hvfqIEvVjhNoAtKgek4jSrcVmSTVELQt0WaVEr4d-gtF0eZG24OsS0qkad9uqxu1n1juPBTU3ynnivmSG5fXrJR5foI9HLt9sK83Z9c77OGdr21_RMtD5emIRvQipsHGRaPD8tJkxjXZSlRNt0Fvi6PuQqu4BoXUv7sMlYIy0AN0WwkkqLpPCjwdmQUk.UFrwClfgNJBZ9DbRLN57sQ/test_clean'"
      ],
      "execution_count": 0,
      "outputs": []
    },
    {
      "cell_type": "code",
      "metadata": {
        "id": "-Klk0KRZAB9x",
        "colab_type": "code",
        "colab": {}
      },
      "source": [
        "!wget {train} -q\n",
        "!wget {test} -q"
      ],
      "execution_count": 0,
      "outputs": []
    },
    {
      "cell_type": "markdown",
      "metadata": {
        "id": "KFX0HQ-NAPLk",
        "colab_type": "text"
      },
      "source": [
        "And now that we have our data, let's install the `fastai2` library"
      ]
    },
    {
      "cell_type": "code",
      "metadata": {
        "id": "K6cvNJJKAOD-",
        "colab_type": "code",
        "outputId": "e3ca389c-d4bb-43bf-f88c-dfe4b9f5b810",
        "colab": {
          "base_uri": "https://localhost:8080/",
          "height": 713
        }
      },
      "source": [
        "pip install fastai2"
      ],
      "execution_count": 0,
      "outputs": [
        {
          "output_type": "stream",
          "text": [
            "Requirement already satisfied: fastai2 in /usr/local/lib/python3.6/dist-packages (0.0.13)\n",
            "Requirement already satisfied: pyyaml in /usr/local/lib/python3.6/dist-packages (from fastai2) (3.13)\n",
            "Requirement already satisfied: requests in /usr/local/lib/python3.6/dist-packages (from fastai2) (2.21.0)\n",
            "Requirement already satisfied: matplotlib in /usr/local/lib/python3.6/dist-packages (from fastai2) (3.2.0)\n",
            "Requirement already satisfied: fastcore in /usr/local/lib/python3.6/dist-packages (from fastai2) (0.1.15)\n",
            "Requirement already satisfied: spacy in /usr/local/lib/python3.6/dist-packages (from fastai2) (2.2.4)\n",
            "Requirement already satisfied: scipy in /usr/local/lib/python3.6/dist-packages (from fastai2) (1.4.1)\n",
            "Requirement already satisfied: scikit-learn in /usr/local/lib/python3.6/dist-packages (from fastai2) (0.22.2.post1)\n",
            "Requirement already satisfied: pillow in /usr/local/lib/python3.6/dist-packages (from fastai2) (7.0.0)\n",
            "Requirement already satisfied: pandas in /usr/local/lib/python3.6/dist-packages (from fastai2) (0.25.3)\n",
            "Requirement already satisfied: torch>=1.3.0 in /usr/local/lib/python3.6/dist-packages (from fastai2) (1.4.0)\n",
            "Requirement already satisfied: torchvision>=0.5 in /usr/local/lib/python3.6/dist-packages (from fastai2) (0.5.0)\n",
            "Requirement already satisfied: fastprogress>=0.1.22 in /usr/local/lib/python3.6/dist-packages (from fastai2) (0.2.2)\n",
            "Requirement already satisfied: idna<2.9,>=2.5 in /usr/local/lib/python3.6/dist-packages (from requests->fastai2) (2.8)\n",
            "Requirement already satisfied: urllib3<1.25,>=1.21.1 in /usr/local/lib/python3.6/dist-packages (from requests->fastai2) (1.24.3)\n",
            "Requirement already satisfied: certifi>=2017.4.17 in /usr/local/lib/python3.6/dist-packages (from requests->fastai2) (2019.11.28)\n",
            "Requirement already satisfied: chardet<3.1.0,>=3.0.2 in /usr/local/lib/python3.6/dist-packages (from requests->fastai2) (3.0.4)\n",
            "Requirement already satisfied: numpy>=1.11 in /usr/local/lib/python3.6/dist-packages (from matplotlib->fastai2) (1.18.2)\n",
            "Requirement already satisfied: kiwisolver>=1.0.1 in /usr/local/lib/python3.6/dist-packages (from matplotlib->fastai2) (1.1.0)\n",
            "Requirement already satisfied: pyparsing!=2.0.4,!=2.1.2,!=2.1.6,>=2.0.1 in /usr/local/lib/python3.6/dist-packages (from matplotlib->fastai2) (2.4.6)\n",
            "Requirement already satisfied: python-dateutil>=2.1 in /usr/local/lib/python3.6/dist-packages (from matplotlib->fastai2) (2.8.1)\n",
            "Requirement already satisfied: cycler>=0.10 in /usr/local/lib/python3.6/dist-packages (from matplotlib->fastai2) (0.10.0)\n",
            "Requirement already satisfied: dataclasses>='0.7'; python_version < \"3.7\" in /usr/local/lib/python3.6/dist-packages (from fastcore->fastai2) (0.7)\n",
            "Requirement already satisfied: catalogue<1.1.0,>=0.0.7 in /usr/local/lib/python3.6/dist-packages (from spacy->fastai2) (1.0.0)\n",
            "Requirement already satisfied: preshed<3.1.0,>=3.0.2 in /usr/local/lib/python3.6/dist-packages (from spacy->fastai2) (3.0.2)\n",
            "Requirement already satisfied: thinc==7.4.0 in /usr/local/lib/python3.6/dist-packages (from spacy->fastai2) (7.4.0)\n",
            "Requirement already satisfied: blis<0.5.0,>=0.4.0 in /usr/local/lib/python3.6/dist-packages (from spacy->fastai2) (0.4.1)\n",
            "Requirement already satisfied: wasabi<1.1.0,>=0.4.0 in /usr/local/lib/python3.6/dist-packages (from spacy->fastai2) (0.6.0)\n",
            "Requirement already satisfied: tqdm<5.0.0,>=4.38.0 in /usr/local/lib/python3.6/dist-packages (from spacy->fastai2) (4.38.0)\n",
            "Requirement already satisfied: srsly<1.1.0,>=1.0.2 in /usr/local/lib/python3.6/dist-packages (from spacy->fastai2) (1.0.2)\n",
            "Requirement already satisfied: setuptools in /usr/local/lib/python3.6/dist-packages (from spacy->fastai2) (46.0.0)\n",
            "Requirement already satisfied: cymem<2.1.0,>=2.0.2 in /usr/local/lib/python3.6/dist-packages (from spacy->fastai2) (2.0.3)\n",
            "Requirement already satisfied: plac<1.2.0,>=0.9.6 in /usr/local/lib/python3.6/dist-packages (from spacy->fastai2) (1.1.3)\n",
            "Requirement already satisfied: murmurhash<1.1.0,>=0.28.0 in /usr/local/lib/python3.6/dist-packages (from spacy->fastai2) (1.0.2)\n",
            "Requirement already satisfied: joblib>=0.11 in /usr/local/lib/python3.6/dist-packages (from scikit-learn->fastai2) (0.14.1)\n",
            "Requirement already satisfied: pytz>=2017.2 in /usr/local/lib/python3.6/dist-packages (from pandas->fastai2) (2018.9)\n",
            "Requirement already satisfied: six in /usr/local/lib/python3.6/dist-packages (from torchvision>=0.5->fastai2) (1.12.0)\n",
            "Requirement already satisfied: importlib-metadata>=0.20; python_version < \"3.8\" in /usr/local/lib/python3.6/dist-packages (from catalogue<1.1.0,>=0.0.7->spacy->fastai2) (1.5.0)\n",
            "Requirement already satisfied: zipp>=0.5 in /usr/local/lib/python3.6/dist-packages (from importlib-metadata>=0.20; python_version < \"3.8\"->catalogue<1.1.0,>=0.0.7->spacy->fastai2) (3.1.0)\n"
          ],
          "name": "stdout"
        }
      ]
    },
    {
      "cell_type": "markdown",
      "metadata": {
        "id": "nTqOUAKUAYOj",
        "colab_type": "text"
      },
      "source": [
        "# Time-Series Analysis"
      ]
    },
    {
      "cell_type": "code",
      "metadata": {
        "id": "kAnKoWa2AVpv",
        "colab_type": "code",
        "colab": {}
      },
      "source": [
        "from fastai2.tabular.all import *"
      ],
      "execution_count": 0,
      "outputs": []
    },
    {
      "cell_type": "markdown",
      "metadata": {
        "id": "acFDtcnYFjeJ",
        "colab_type": "text"
      },
      "source": [
        "## The Data:"
      ]
    },
    {
      "cell_type": "code",
      "metadata": {
        "id": "LtLTSLrbBedX",
        "colab_type": "code",
        "colab": {}
      },
      "source": [
        "train_df = pd.read_pickle('train_clean')\n",
        "test_df = pd.read_pickle('test_clean')"
      ],
      "execution_count": 0,
      "outputs": []
    },
    {
      "cell_type": "code",
      "metadata": {
        "id": "X1Cq6JDOB1wT",
        "colab_type": "code",
        "outputId": "288038f8-5487-4564-a0e3-3b110d149e04",
        "colab": {
          "base_uri": "https://localhost:8080/",
          "height": 415
        }
      },
      "source": [
        "train_df.head().T"
      ],
      "execution_count": 0,
      "outputs": [
        {
          "output_type": "execute_result",
          "data": {
            "text/html": [
              "<div>\n",
              "<style scoped>\n",
              "    .dataframe tbody tr th:only-of-type {\n",
              "        vertical-align: middle;\n",
              "    }\n",
              "\n",
              "    .dataframe tbody tr th {\n",
              "        vertical-align: top;\n",
              "    }\n",
              "\n",
              "    .dataframe thead th {\n",
              "        text-align: right;\n",
              "    }\n",
              "</style>\n",
              "<table border=\"1\" class=\"dataframe\">\n",
              "  <thead>\n",
              "    <tr style=\"text-align: right;\">\n",
              "      <th></th>\n",
              "      <th>0</th>\n",
              "      <th>1</th>\n",
              "      <th>2</th>\n",
              "      <th>3</th>\n",
              "      <th>4</th>\n",
              "    </tr>\n",
              "  </thead>\n",
              "  <tbody>\n",
              "    <tr>\n",
              "      <th>index</th>\n",
              "      <td>0</td>\n",
              "      <td>1</td>\n",
              "      <td>2</td>\n",
              "      <td>3</td>\n",
              "      <td>4</td>\n",
              "    </tr>\n",
              "    <tr>\n",
              "      <th>Store</th>\n",
              "      <td>1</td>\n",
              "      <td>2</td>\n",
              "      <td>3</td>\n",
              "      <td>4</td>\n",
              "      <td>5</td>\n",
              "    </tr>\n",
              "    <tr>\n",
              "      <th>DayOfWeek</th>\n",
              "      <td>5</td>\n",
              "      <td>5</td>\n",
              "      <td>5</td>\n",
              "      <td>5</td>\n",
              "      <td>5</td>\n",
              "    </tr>\n",
              "    <tr>\n",
              "      <th>Date</th>\n",
              "      <td>2015-07-31 00:00:00</td>\n",
              "      <td>2015-07-31 00:00:00</td>\n",
              "      <td>2015-07-31 00:00:00</td>\n",
              "      <td>2015-07-31 00:00:00</td>\n",
              "      <td>2015-07-31 00:00:00</td>\n",
              "    </tr>\n",
              "    <tr>\n",
              "      <th>Sales</th>\n",
              "      <td>5263</td>\n",
              "      <td>6064</td>\n",
              "      <td>8314</td>\n",
              "      <td>13995</td>\n",
              "      <td>4822</td>\n",
              "    </tr>\n",
              "    <tr>\n",
              "      <th>...</th>\n",
              "      <td>...</td>\n",
              "      <td>...</td>\n",
              "      <td>...</td>\n",
              "      <td>...</td>\n",
              "      <td>...</td>\n",
              "    </tr>\n",
              "    <tr>\n",
              "      <th>StateHoliday_bw</th>\n",
              "      <td>0</td>\n",
              "      <td>0</td>\n",
              "      <td>0</td>\n",
              "      <td>0</td>\n",
              "      <td>0</td>\n",
              "    </tr>\n",
              "    <tr>\n",
              "      <th>Promo_bw</th>\n",
              "      <td>5</td>\n",
              "      <td>5</td>\n",
              "      <td>5</td>\n",
              "      <td>5</td>\n",
              "      <td>5</td>\n",
              "    </tr>\n",
              "    <tr>\n",
              "      <th>SchoolHoliday_fw</th>\n",
              "      <td>7</td>\n",
              "      <td>1</td>\n",
              "      <td>5</td>\n",
              "      <td>1</td>\n",
              "      <td>1</td>\n",
              "    </tr>\n",
              "    <tr>\n",
              "      <th>StateHoliday_fw</th>\n",
              "      <td>0</td>\n",
              "      <td>0</td>\n",
              "      <td>0</td>\n",
              "      <td>0</td>\n",
              "      <td>0</td>\n",
              "    </tr>\n",
              "    <tr>\n",
              "      <th>Promo_fw</th>\n",
              "      <td>5</td>\n",
              "      <td>1</td>\n",
              "      <td>5</td>\n",
              "      <td>1</td>\n",
              "      <td>1</td>\n",
              "    </tr>\n",
              "  </tbody>\n",
              "</table>\n",
              "<p>93 rows × 5 columns</p>\n",
              "</div>"
            ],
            "text/plain": [
              "                                    0  ...                    4\n",
              "index                               0  ...                    4\n",
              "Store                               1  ...                    5\n",
              "DayOfWeek                           5  ...                    5\n",
              "Date              2015-07-31 00:00:00  ...  2015-07-31 00:00:00\n",
              "Sales                            5263  ...                 4822\n",
              "...                               ...  ...                  ...\n",
              "StateHoliday_bw                     0  ...                    0\n",
              "Promo_bw                            5  ...                    5\n",
              "SchoolHoliday_fw                    7  ...                    1\n",
              "StateHoliday_fw                     0  ...                    0\n",
              "Promo_fw                            5  ...                    1\n",
              "\n",
              "[93 rows x 5 columns]"
            ]
          },
          "metadata": {
            "tags": []
          },
          "execution_count": 14
        }
      ]
    },
    {
      "cell_type": "markdown",
      "metadata": {
        "id": "HD9ZrPEsAcWp",
        "colab_type": "text"
      },
      "source": [
        "With our time-series based approach, the feature engineering made a bunch of date-related categorical columns that we can utilize in our **embeddings**."
      ]
    },
    {
      "cell_type": "code",
      "metadata": {
        "id": "JgZa06HnAbC7",
        "colab_type": "code",
        "colab": {}
      },
      "source": [
        "cat_vars = ['Store', 'DayOfWeek', 'Year', 'Month', 'Day', 'StateHoliday', 'CompetitionMonthsOpen',\n",
        "    'Promo2Weeks', 'StoreType', 'Assortment', 'PromoInterval', 'CompetitionOpenSinceYear', 'Promo2SinceYear',\n",
        "    'State', 'Week', 'Events', 'Promo_fw', 'Promo_bw', 'StateHoliday_fw', 'StateHoliday_bw',\n",
        "    'SchoolHoliday_fw', 'SchoolHoliday_bw', 'Promo', 'SchoolHoliday']\n",
        "\n",
        "cont_vars = ['CompetitionDistance', 'Max_TemperatureC', 'Mean_TemperatureC', 'Min_TemperatureC',\n",
        "   'Max_Humidity', 'Mean_Humidity', 'Min_Humidity', 'Max_Wind_SpeedKm_h', \n",
        "   'Mean_Wind_SpeedKm_h', 'CloudCover', 'trend', 'trend_DE',\n",
        "   'AfterStateHoliday', 'BeforeStateHoliday']\n",
        "   \n",
        "dep_var = 'Sales'"
      ],
      "execution_count": 0,
      "outputs": []
    },
    {
      "cell_type": "markdown",
      "metadata": {
        "id": "BpuaVcEUFzKz",
        "colab_type": "text"
      },
      "source": [
        "When doing Regression with these large numbers, we often use the **log** of these values for our `y`'s. Let's transform them real quick:"
      ]
    },
    {
      "cell_type": "code",
      "metadata": {
        "id": "d3a_9GqiGFPI",
        "colab_type": "code",
        "colab": {}
      },
      "source": [
        "train_df[dep_var] = np.log(train_df[dep_var])"
      ],
      "execution_count": 0,
      "outputs": []
    },
    {
      "cell_type": "markdown",
      "metadata": {
        "id": "rxKMUl5LBUwK",
        "colab_type": "text"
      },
      "source": [
        "Now let's declare our `procs`"
      ]
    },
    {
      "cell_type": "code",
      "metadata": {
        "id": "flV2o8HfA-8M",
        "colab_type": "code",
        "colab": {}
      },
      "source": [
        "procs = [FillMissing, Normalize, Categorify]"
      ],
      "execution_count": 0,
      "outputs": []
    },
    {
      "cell_type": "markdown",
      "metadata": {
        "id": "rJBKrR4XBZP7",
        "colab_type": "text"
      },
      "source": [
        "And splits. Now we want to ensure that (since this is time series) our validation and test "
      ]
    },
    {
      "cell_type": "code",
      "metadata": {
        "id": "NW0_dOrGBY3g",
        "colab_type": "code",
        "outputId": "5d280fbc-6859-4723-f88d-c976a4bf767b",
        "colab": {
          "base_uri": "https://localhost:8080/",
          "height": 35
        }
      },
      "source": [
        "len(train_df), len(test_df)"
      ],
      "execution_count": 0,
      "outputs": [
        {
          "output_type": "execute_result",
          "data": {
            "text/plain": [
              "(844338, 41088)"
            ]
          },
          "metadata": {
            "tags": []
          },
          "execution_count": 18
        }
      ]
    },
    {
      "cell_type": "code",
      "metadata": {
        "id": "5pr_C0NXB-hB",
        "colab_type": "code",
        "outputId": "7c2c16cd-ac78-447f-93e4-8f1d065a40bb",
        "colab": {
          "base_uri": "https://localhost:8080/",
          "height": 35
        }
      },
      "source": [
        "test_df['Date'].min(), test_df['Date'].max()"
      ],
      "execution_count": 0,
      "outputs": [
        {
          "output_type": "execute_result",
          "data": {
            "text/plain": [
              "(Timestamp('2015-08-01 00:00:00'), Timestamp('2015-09-17 00:00:00'))"
            ]
          },
          "metadata": {
            "tags": []
          },
          "execution_count": 19
        }
      ]
    },
    {
      "cell_type": "markdown",
      "metadata": {
        "id": "XRSx88yOCKdp",
        "colab_type": "text"
      },
      "source": [
        "Let's find that particular index"
      ]
    },
    {
      "cell_type": "code",
      "metadata": {
        "id": "2mnv-kZfDtAD",
        "colab_type": "code",
        "outputId": "18a2cd08-37d7-4d14-d5db-a8a5d4627626",
        "colab": {
          "base_uri": "https://localhost:8080/",
          "height": 69
        }
      },
      "source": [
        "train_df['Date'][41393] , train_df['Date'][41395] , train_df['Date'][41396]"
      ],
      "execution_count": 0,
      "outputs": [
        {
          "output_type": "execute_result",
          "data": {
            "text/plain": [
              "(Timestamp('2015-06-19 00:00:00'),\n",
              " Timestamp('2015-06-19 00:00:00'),\n",
              " Timestamp('2015-06-18 00:00:00'))"
            ]
          },
          "metadata": {
            "tags": []
          },
          "execution_count": 20
        }
      ]
    },
    {
      "cell_type": "code",
      "metadata": {
        "id": "C7jThUfrCBc4",
        "colab_type": "code",
        "colab": {}
      },
      "source": [
        "idx = train_df['Date'][(train_df['Date'] == train_df['Date'][len(test_df)])].index.max()"
      ],
      "execution_count": 0,
      "outputs": []
    },
    {
      "cell_type": "code",
      "metadata": {
        "id": "D3OSrh17CIPy",
        "colab_type": "code",
        "outputId": "47f473ae-e2b8-459d-b7c3-6d671f7d9ea9",
        "colab": {
          "base_uri": "https://localhost:8080/",
          "height": 35
        }
      },
      "source": [
        "idx"
      ],
      "execution_count": 0,
      "outputs": [
        {
          "output_type": "execute_result",
          "data": {
            "text/plain": [
              "41395"
            ]
          },
          "metadata": {
            "tags": []
          },
          "execution_count": 22
        }
      ]
    },
    {
      "cell_type": "markdown",
      "metadata": {
        "id": "OR5OWhQuCMdz",
        "colab_type": "text"
      },
      "source": [
        "So now our `splits` will be every index *after* the 41395'th item"
      ]
    },
    {
      "cell_type": "code",
      "metadata": {
        "id": "7tgCq5BoCIye",
        "colab_type": "code",
        "colab": {}
      },
      "source": [
        "splits = (L(range(idx, len(train_df))),L(range(idx)))"
      ],
      "execution_count": 0,
      "outputs": []
    },
    {
      "cell_type": "code",
      "metadata": {
        "id": "3j413TsYEdR2",
        "colab_type": "code",
        "outputId": "8f4343cc-13a3-440b-dfe4-0025c723b7b6",
        "colab": {
          "base_uri": "https://localhost:8080/",
          "height": 52
        }
      },
      "source": [
        "splits"
      ],
      "execution_count": 0,
      "outputs": [
        {
          "output_type": "execute_result",
          "data": {
            "text/plain": [
              "((#802943) [41395,41396,41397,41398,41399,41400,41401,41402,41403,41404...],\n",
              " (#41395) [0,1,2,3,4,5,6,7,8,9...])"
            ]
          },
          "metadata": {
            "tags": []
          },
          "execution_count": 24
        }
      ]
    },
    {
      "cell_type": "markdown",
      "metadata": {
        "id": "_0-rrC0yEmtR",
        "colab_type": "text"
      },
      "source": [
        "Let's make our `TabularPandas`! Since we have a large `DataFrame`, we can enable `inplace` to `True` and `reduce_memory` to `True` to save on some storage space (**Note**: `reduce_memory` is by default `True`). To use `inplace`, we need to set `chained_assignment` to `None` in `pandas`"
      ]
    },
    {
      "cell_type": "code",
      "metadata": {
        "id": "lqcqZREjFWKo",
        "colab_type": "code",
        "outputId": "04b4ca90-7921-4120-af98-c87aac34e1e4",
        "colab": {
          "base_uri": "https://localhost:8080/",
          "height": 69
        }
      },
      "source": [
        "!free -m"
      ],
      "execution_count": 0,
      "outputs": [
        {
          "output_type": "stream",
          "text": [
            "              total        used        free      shared  buff/cache   available\n",
            "Mem:          13022        1837        7560           0        3624       11625\n",
            "Swap:             0           0           0\n"
          ],
          "name": "stdout"
        }
      ]
    },
    {
      "cell_type": "code",
      "metadata": {
        "id": "-ahfg6KDFLE0",
        "colab_type": "code",
        "colab": {}
      },
      "source": [
        "pd.options.mode.chained_assignment=None"
      ],
      "execution_count": 0,
      "outputs": []
    },
    {
      "cell_type": "code",
      "metadata": {
        "id": "R_9IbiyJCoL7",
        "colab_type": "code",
        "colab": {}
      },
      "source": [
        "to = TabularPandas(train_df, procs, cat_vars, cont_vars, dep_var, block_y=RegressionBlock(),\n",
        "                   splits=splits, inplace=True, reduce_memory=True)"
      ],
      "execution_count": 0,
      "outputs": []
    },
    {
      "cell_type": "code",
      "metadata": {
        "id": "XbETTlTnFjF1",
        "colab_type": "code",
        "outputId": "066d8e53-2bb3-468a-b25a-d59cbba50494",
        "colab": {
          "base_uri": "https://localhost:8080/",
          "height": 69
        }
      },
      "source": [
        "!free -m"
      ],
      "execution_count": 0,
      "outputs": [
        {
          "output_type": "stream",
          "text": [
            "              total        used        free      shared  buff/cache   available\n",
            "Mem:          13022        2811        6585           0        3626       11699\n",
            "Swap:             0           0           0\n"
          ],
          "name": "stdout"
        }
      ]
    },
    {
      "cell_type": "markdown",
      "metadata": {
        "id": "SNKk3tE6FT4t",
        "colab_type": "text"
      },
      "source": [
        "And now let's build our `dataloaders`!"
      ]
    },
    {
      "cell_type": "code",
      "metadata": {
        "id": "ffcMILeGFQfb",
        "colab_type": "code",
        "colab": {}
      },
      "source": [
        "dls = to.dataloaders(bs=512)"
      ],
      "execution_count": 0,
      "outputs": []
    },
    {
      "cell_type": "code",
      "metadata": {
        "id": "FxcRfadVFYcG",
        "colab_type": "code",
        "outputId": "92727dc4-1084-4f79-c72b-71fd6263bb90",
        "colab": {
          "base_uri": "https://localhost:8080/",
          "height": 393
        }
      },
      "source": [
        "dls.show_batch()"
      ],
      "execution_count": 0,
      "outputs": [
        {
          "output_type": "display_data",
          "data": {
            "text/html": [
              "<table border=\"1\" class=\"dataframe\">\n",
              "  <thead>\n",
              "    <tr style=\"text-align: right;\">\n",
              "      <th></th>\n",
              "      <th>Store</th>\n",
              "      <th>DayOfWeek</th>\n",
              "      <th>Year</th>\n",
              "      <th>Month</th>\n",
              "      <th>Day</th>\n",
              "      <th>StateHoliday</th>\n",
              "      <th>CompetitionMonthsOpen</th>\n",
              "      <th>Promo2Weeks</th>\n",
              "      <th>StoreType</th>\n",
              "      <th>Assortment</th>\n",
              "      <th>PromoInterval</th>\n",
              "      <th>CompetitionOpenSinceYear</th>\n",
              "      <th>Promo2SinceYear</th>\n",
              "      <th>State</th>\n",
              "      <th>Week</th>\n",
              "      <th>Events</th>\n",
              "      <th>Promo_fw</th>\n",
              "      <th>Promo_bw</th>\n",
              "      <th>StateHoliday_fw</th>\n",
              "      <th>StateHoliday_bw</th>\n",
              "      <th>SchoolHoliday_fw</th>\n",
              "      <th>SchoolHoliday_bw</th>\n",
              "      <th>Promo</th>\n",
              "      <th>SchoolHoliday</th>\n",
              "      <th>CompetitionDistance_na</th>\n",
              "      <th>CloudCover_na</th>\n",
              "      <th>CompetitionDistance</th>\n",
              "      <th>Max_TemperatureC</th>\n",
              "      <th>Mean_TemperatureC</th>\n",
              "      <th>Min_TemperatureC</th>\n",
              "      <th>Max_Humidity</th>\n",
              "      <th>Mean_Humidity</th>\n",
              "      <th>Min_Humidity</th>\n",
              "      <th>Max_Wind_SpeedKm_h</th>\n",
              "      <th>Mean_Wind_SpeedKm_h</th>\n",
              "      <th>CloudCover</th>\n",
              "      <th>trend</th>\n",
              "      <th>trend_DE</th>\n",
              "      <th>AfterStateHoliday</th>\n",
              "      <th>BeforeStateHoliday</th>\n",
              "      <th>Sales</th>\n",
              "    </tr>\n",
              "  </thead>\n",
              "  <tbody>\n",
              "    <tr>\n",
              "      <th>0</th>\n",
              "      <td>964</td>\n",
              "      <td>3</td>\n",
              "      <td>2015</td>\n",
              "      <td>1</td>\n",
              "      <td>7</td>\n",
              "      <td>False</td>\n",
              "      <td>0</td>\n",
              "      <td>25</td>\n",
              "      <td>a</td>\n",
              "      <td>a</td>\n",
              "      <td>Feb,May,Aug,Nov</td>\n",
              "      <td>1900</td>\n",
              "      <td>2013</td>\n",
              "      <td>BW</td>\n",
              "      <td>2</td>\n",
              "      <td>Rain</td>\n",
              "      <td>5</td>\n",
              "      <td>3</td>\n",
              "      <td>0</td>\n",
              "      <td>2</td>\n",
              "      <td>0</td>\n",
              "      <td>3</td>\n",
              "      <td>1</td>\n",
              "      <td>0</td>\n",
              "      <td>False</td>\n",
              "      <td>False</td>\n",
              "      <td>270.000150</td>\n",
              "      <td>4.0</td>\n",
              "      <td>1.0</td>\n",
              "      <td>-3.0</td>\n",
              "      <td>100.0</td>\n",
              "      <td>90.000000</td>\n",
              "      <td>78.000000</td>\n",
              "      <td>10.000000</td>\n",
              "      <td>5.000000</td>\n",
              "      <td>5.0</td>\n",
              "      <td>74.0</td>\n",
              "      <td>67.0</td>\n",
              "      <td>0.999998</td>\n",
              "      <td>-86.000002</td>\n",
              "      <td>9.359880</td>\n",
              "    </tr>\n",
              "    <tr>\n",
              "      <th>1</th>\n",
              "      <td>702</td>\n",
              "      <td>4</td>\n",
              "      <td>2015</td>\n",
              "      <td>4</td>\n",
              "      <td>2</td>\n",
              "      <td>False</td>\n",
              "      <td>24</td>\n",
              "      <td>25</td>\n",
              "      <td>a</td>\n",
              "      <td>a</td>\n",
              "      <td>Feb,May,Aug,Nov</td>\n",
              "      <td>2001</td>\n",
              "      <td>2009</td>\n",
              "      <td>BY</td>\n",
              "      <td>14</td>\n",
              "      <td>Rain</td>\n",
              "      <td>2</td>\n",
              "      <td>4</td>\n",
              "      <td>2</td>\n",
              "      <td>0</td>\n",
              "      <td>5</td>\n",
              "      <td>4</td>\n",
              "      <td>1</td>\n",
              "      <td>1</td>\n",
              "      <td>False</td>\n",
              "      <td>False</td>\n",
              "      <td>8550.000027</td>\n",
              "      <td>6.0</td>\n",
              "      <td>3.0</td>\n",
              "      <td>1.0</td>\n",
              "      <td>93.0</td>\n",
              "      <td>80.000000</td>\n",
              "      <td>53.000000</td>\n",
              "      <td>60.999998</td>\n",
              "      <td>36.999999</td>\n",
              "      <td>6.0</td>\n",
              "      <td>72.0</td>\n",
              "      <td>66.0</td>\n",
              "      <td>85.999999</td>\n",
              "      <td>-0.999998</td>\n",
              "      <td>8.699015</td>\n",
              "    </tr>\n",
              "    <tr>\n",
              "      <th>2</th>\n",
              "      <td>947</td>\n",
              "      <td>1</td>\n",
              "      <td>2015</td>\n",
              "      <td>4</td>\n",
              "      <td>13</td>\n",
              "      <td>False</td>\n",
              "      <td>13</td>\n",
              "      <td>25</td>\n",
              "      <td>a</td>\n",
              "      <td>a</td>\n",
              "      <td>Jan,Apr,Jul,Oct</td>\n",
              "      <td>2014</td>\n",
              "      <td>2010</td>\n",
              "      <td>BW</td>\n",
              "      <td>16</td>\n",
              "      <td>#na#</td>\n",
              "      <td>5</td>\n",
              "      <td>1</td>\n",
              "      <td>0</td>\n",
              "      <td>0</td>\n",
              "      <td>0</td>\n",
              "      <td>4</td>\n",
              "      <td>1</td>\n",
              "      <td>0</td>\n",
              "      <td>False</td>\n",
              "      <td>False</td>\n",
              "      <td>459.999930</td>\n",
              "      <td>18.0</td>\n",
              "      <td>12.0</td>\n",
              "      <td>5.0</td>\n",
              "      <td>93.0</td>\n",
              "      <td>61.000001</td>\n",
              "      <td>26.999999</td>\n",
              "      <td>35.000000</td>\n",
              "      <td>11.000000</td>\n",
              "      <td>6.0</td>\n",
              "      <td>82.0</td>\n",
              "      <td>65.0</td>\n",
              "      <td>7.000000</td>\n",
              "      <td>-18.000000</td>\n",
              "      <td>9.149422</td>\n",
              "    </tr>\n",
              "    <tr>\n",
              "      <th>3</th>\n",
              "      <td>334</td>\n",
              "      <td>6</td>\n",
              "      <td>2015</td>\n",
              "      <td>3</td>\n",
              "      <td>28</td>\n",
              "      <td>False</td>\n",
              "      <td>24</td>\n",
              "      <td>25</td>\n",
              "      <td>d</td>\n",
              "      <td>c</td>\n",
              "      <td>Mar,Jun,Sept,Dec</td>\n",
              "      <td>2008</td>\n",
              "      <td>2013</td>\n",
              "      <td>NW</td>\n",
              "      <td>13</td>\n",
              "      <td>Rain</td>\n",
              "      <td>5</td>\n",
              "      <td>0</td>\n",
              "      <td>1</td>\n",
              "      <td>0</td>\n",
              "      <td>5</td>\n",
              "      <td>0</td>\n",
              "      <td>0</td>\n",
              "      <td>0</td>\n",
              "      <td>False</td>\n",
              "      <td>False</td>\n",
              "      <td>4040.000033</td>\n",
              "      <td>12.0</td>\n",
              "      <td>6.0</td>\n",
              "      <td>-2.0</td>\n",
              "      <td>94.0</td>\n",
              "      <td>82.000000</td>\n",
              "      <td>41.000000</td>\n",
              "      <td>27.000000</td>\n",
              "      <td>13.000000</td>\n",
              "      <td>6.0</td>\n",
              "      <td>79.0</td>\n",
              "      <td>75.0</td>\n",
              "      <td>85.999999</td>\n",
              "      <td>-6.000001</td>\n",
              "      <td>8.512382</td>\n",
              "    </tr>\n",
              "    <tr>\n",
              "      <th>4</th>\n",
              "      <td>966</td>\n",
              "      <td>4</td>\n",
              "      <td>2014</td>\n",
              "      <td>2</td>\n",
              "      <td>13</td>\n",
              "      <td>False</td>\n",
              "      <td>24</td>\n",
              "      <td>0</td>\n",
              "      <td>a</td>\n",
              "      <td>a</td>\n",
              "      <td>#na#</td>\n",
              "      <td>2008</td>\n",
              "      <td>1900</td>\n",
              "      <td>NW</td>\n",
              "      <td>7</td>\n",
              "      <td>Rain</td>\n",
              "      <td>3</td>\n",
              "      <td>1</td>\n",
              "      <td>0</td>\n",
              "      <td>0</td>\n",
              "      <td>0</td>\n",
              "      <td>0</td>\n",
              "      <td>0</td>\n",
              "      <td>0</td>\n",
              "      <td>False</td>\n",
              "      <td>False</td>\n",
              "      <td>760.000195</td>\n",
              "      <td>7.0</td>\n",
              "      <td>4.0</td>\n",
              "      <td>2.0</td>\n",
              "      <td>93.0</td>\n",
              "      <td>78.000000</td>\n",
              "      <td>60.000000</td>\n",
              "      <td>35.000000</td>\n",
              "      <td>21.000000</td>\n",
              "      <td>6.0</td>\n",
              "      <td>74.0</td>\n",
              "      <td>68.0</td>\n",
              "      <td>43.000000</td>\n",
              "      <td>-63.999999</td>\n",
              "      <td>8.255829</td>\n",
              "    </tr>\n",
              "    <tr>\n",
              "      <th>5</th>\n",
              "      <td>777</td>\n",
              "      <td>2</td>\n",
              "      <td>2015</td>\n",
              "      <td>4</td>\n",
              "      <td>7</td>\n",
              "      <td>False</td>\n",
              "      <td>24</td>\n",
              "      <td>25</td>\n",
              "      <td>d</td>\n",
              "      <td>c</td>\n",
              "      <td>Mar,Jun,Sept,Dec</td>\n",
              "      <td>2004</td>\n",
              "      <td>2013</td>\n",
              "      <td>BW</td>\n",
              "      <td>15</td>\n",
              "      <td>#na#</td>\n",
              "      <td>1</td>\n",
              "      <td>3</td>\n",
              "      <td>0</td>\n",
              "      <td>2</td>\n",
              "      <td>4</td>\n",
              "      <td>5</td>\n",
              "      <td>0</td>\n",
              "      <td>1</td>\n",
              "      <td>False</td>\n",
              "      <td>False</td>\n",
              "      <td>8249.999994</td>\n",
              "      <td>11.0</td>\n",
              "      <td>4.0</td>\n",
              "      <td>-3.0</td>\n",
              "      <td>87.0</td>\n",
              "      <td>54.000000</td>\n",
              "      <td>15.999999</td>\n",
              "      <td>14.000000</td>\n",
              "      <td>6.000000</td>\n",
              "      <td>2.0</td>\n",
              "      <td>72.0</td>\n",
              "      <td>69.0</td>\n",
              "      <td>0.999998</td>\n",
              "      <td>-24.000000</td>\n",
              "      <td>8.364042</td>\n",
              "    </tr>\n",
              "    <tr>\n",
              "      <th>6</th>\n",
              "      <td>495</td>\n",
              "      <td>3</td>\n",
              "      <td>2014</td>\n",
              "      <td>8</td>\n",
              "      <td>20</td>\n",
              "      <td>False</td>\n",
              "      <td>0</td>\n",
              "      <td>25</td>\n",
              "      <td>d</td>\n",
              "      <td>a</td>\n",
              "      <td>Jan,Apr,Jul,Oct</td>\n",
              "      <td>1900</td>\n",
              "      <td>2009</td>\n",
              "      <td>BW</td>\n",
              "      <td>34</td>\n",
              "      <td>#na#</td>\n",
              "      <td>3</td>\n",
              "      <td>3</td>\n",
              "      <td>0</td>\n",
              "      <td>0</td>\n",
              "      <td>5</td>\n",
              "      <td>5</td>\n",
              "      <td>1</td>\n",
              "      <td>1</td>\n",
              "      <td>False</td>\n",
              "      <td>False</td>\n",
              "      <td>5470.000000</td>\n",
              "      <td>18.0</td>\n",
              "      <td>14.0</td>\n",
              "      <td>10.0</td>\n",
              "      <td>88.0</td>\n",
              "      <td>67.000000</td>\n",
              "      <td>38.000000</td>\n",
              "      <td>16.000000</td>\n",
              "      <td>6.000000</td>\n",
              "      <td>4.0</td>\n",
              "      <td>69.0</td>\n",
              "      <td>66.0</td>\n",
              "      <td>62.000001</td>\n",
              "      <td>-44.000000</td>\n",
              "      <td>8.534050</td>\n",
              "    </tr>\n",
              "    <tr>\n",
              "      <th>7</th>\n",
              "      <td>683</td>\n",
              "      <td>6</td>\n",
              "      <td>2014</td>\n",
              "      <td>6</td>\n",
              "      <td>14</td>\n",
              "      <td>False</td>\n",
              "      <td>0</td>\n",
              "      <td>0</td>\n",
              "      <td>a</td>\n",
              "      <td>a</td>\n",
              "      <td>#na#</td>\n",
              "      <td>2014</td>\n",
              "      <td>1900</td>\n",
              "      <td>BE</td>\n",
              "      <td>24</td>\n",
              "      <td>Rain-Thunderstorm</td>\n",
              "      <td>5</td>\n",
              "      <td>0</td>\n",
              "      <td>0</td>\n",
              "      <td>1</td>\n",
              "      <td>0</td>\n",
              "      <td>0</td>\n",
              "      <td>0</td>\n",
              "      <td>0</td>\n",
              "      <td>False</td>\n",
              "      <td>False</td>\n",
              "      <td>2850.000105</td>\n",
              "      <td>19.0</td>\n",
              "      <td>16.0</td>\n",
              "      <td>12.0</td>\n",
              "      <td>88.0</td>\n",
              "      <td>70.000000</td>\n",
              "      <td>41.000000</td>\n",
              "      <td>19.000000</td>\n",
              "      <td>11.000000</td>\n",
              "      <td>5.0</td>\n",
              "      <td>62.0</td>\n",
              "      <td>75.0</td>\n",
              "      <td>5.000001</td>\n",
              "      <td>-111.000004</td>\n",
              "      <td>8.650149</td>\n",
              "    </tr>\n",
              "    <tr>\n",
              "      <th>8</th>\n",
              "      <td>304</td>\n",
              "      <td>4</td>\n",
              "      <td>2015</td>\n",
              "      <td>4</td>\n",
              "      <td>23</td>\n",
              "      <td>False</td>\n",
              "      <td>0</td>\n",
              "      <td>0</td>\n",
              "      <td>a</td>\n",
              "      <td>a</td>\n",
              "      <td>#na#</td>\n",
              "      <td>2015</td>\n",
              "      <td>1900</td>\n",
              "      <td>HB,NI</td>\n",
              "      <td>17</td>\n",
              "      <td>Fog</td>\n",
              "      <td>3</td>\n",
              "      <td>1</td>\n",
              "      <td>0</td>\n",
              "      <td>0</td>\n",
              "      <td>0</td>\n",
              "      <td>0</td>\n",
              "      <td>0</td>\n",
              "      <td>0</td>\n",
              "      <td>False</td>\n",
              "      <td>False</td>\n",
              "      <td>1950.000007</td>\n",
              "      <td>13.0</td>\n",
              "      <td>8.0</td>\n",
              "      <td>3.0</td>\n",
              "      <td>100.0</td>\n",
              "      <td>86.000000</td>\n",
              "      <td>47.000000</td>\n",
              "      <td>14.000000</td>\n",
              "      <td>10.000000</td>\n",
              "      <td>6.0</td>\n",
              "      <td>74.0</td>\n",
              "      <td>79.0</td>\n",
              "      <td>16.999999</td>\n",
              "      <td>-7.999999</td>\n",
              "      <td>8.679992</td>\n",
              "    </tr>\n",
              "    <tr>\n",
              "      <th>9</th>\n",
              "      <td>727</td>\n",
              "      <td>2</td>\n",
              "      <td>2013</td>\n",
              "      <td>5</td>\n",
              "      <td>14</td>\n",
              "      <td>False</td>\n",
              "      <td>24</td>\n",
              "      <td>0</td>\n",
              "      <td>a</td>\n",
              "      <td>a</td>\n",
              "      <td>#na#</td>\n",
              "      <td>2007</td>\n",
              "      <td>1900</td>\n",
              "      <td>HE</td>\n",
              "      <td>20</td>\n",
              "      <td>#na#</td>\n",
              "      <td>4</td>\n",
              "      <td>2</td>\n",
              "      <td>1</td>\n",
              "      <td>1</td>\n",
              "      <td>0</td>\n",
              "      <td>0</td>\n",
              "      <td>1</td>\n",
              "      <td>0</td>\n",
              "      <td>False</td>\n",
              "      <td>False</td>\n",
              "      <td>2049.999940</td>\n",
              "      <td>18.0</td>\n",
              "      <td>14.0</td>\n",
              "      <td>10.0</td>\n",
              "      <td>94.0</td>\n",
              "      <td>70.000000</td>\n",
              "      <td>42.000000</td>\n",
              "      <td>26.000000</td>\n",
              "      <td>13.000000</td>\n",
              "      <td>6.0</td>\n",
              "      <td>53.0</td>\n",
              "      <td>53.0</td>\n",
              "      <td>5.000001</td>\n",
              "      <td>-6.000001</td>\n",
              "      <td>8.619569</td>\n",
              "    </tr>\n",
              "  </tbody>\n",
              "</table>"
            ],
            "text/plain": [
              "<IPython.core.display.HTML object>"
            ]
          },
          "metadata": {
            "tags": []
          }
        }
      ]
    },
    {
      "cell_type": "markdown",
      "metadata": {
        "id": "G63OAG8HFf6F",
        "colab_type": "text"
      },
      "source": [
        "## The Model:\n"
      ]
    },
    {
      "cell_type": "markdown",
      "metadata": {
        "id": "MEvDyLsMGOzB",
        "colab_type": "text"
      },
      "source": [
        "As we're doing regression, we want to dictate what the maximum value to be (and minimum) so we will use a `y_range`"
      ]
    },
    {
      "cell_type": "code",
      "metadata": {
        "id": "ju-uQDZ0Fct-",
        "colab_type": "code",
        "colab": {}
      },
      "source": [
        "max_log_y = np.max(train_df['Sales'])*1.2"
      ],
      "execution_count": 0,
      "outputs": []
    },
    {
      "cell_type": "code",
      "metadata": {
        "id": "rLdyZogDGaKD",
        "colab_type": "code",
        "outputId": "dbd439fd-4fa7-4c58-dea7-ccd9b1e7dd26",
        "colab": {
          "base_uri": "https://localhost:8080/",
          "height": 35
        }
      },
      "source": [
        "max_log_y"
      ],
      "execution_count": 0,
      "outputs": [
        {
          "output_type": "execute_result",
          "data": {
            "text/plain": [
              "12.7616122408592"
            ]
          },
          "metadata": {
            "tags": []
          },
          "execution_count": 32
        }
      ]
    },
    {
      "cell_type": "markdown",
      "metadata": {
        "id": "8e8GO9gVGbYI",
        "colab_type": "text"
      },
      "source": [
        "And now we can make a `y_range`"
      ]
    },
    {
      "cell_type": "code",
      "metadata": {
        "id": "vxpq1zkpGasf",
        "colab_type": "code",
        "outputId": "d09a3029-5f0b-473a-bdf2-eeea32e04103",
        "colab": {
          "base_uri": "https://localhost:8080/",
          "height": 35
        }
      },
      "source": [
        "y_range = torch.tensor([0, max_log_y]); y_range"
      ],
      "execution_count": 0,
      "outputs": [
        {
          "output_type": "execute_result",
          "data": {
            "text/plain": [
              "tensor([ 0.0000, 12.7616])"
            ]
          },
          "metadata": {
            "tags": []
          },
          "execution_count": 33
        }
      ]
    },
    {
      "cell_type": "markdown",
      "metadata": {
        "id": "6_GgfdlfGfxe",
        "colab_type": "text"
      },
      "source": [
        "Next comes our `Learner`. We'll walk through each step"
      ]
    },
    {
      "cell_type": "code",
      "metadata": {
        "id": "Q02bUQ4tGfG1",
        "colab_type": "code",
        "colab": {}
      },
      "source": [
        "learn = tabular_learner(dls, layers=[1000,500], ps=[0.001, 0.01],\n",
        "                       embed_p=0.04, y_range=y_range, metrics=exp_rmspe,\n",
        "                       loss_func=MSELossFlat())"
      ],
      "execution_count": 0,
      "outputs": []
    },
    {
      "cell_type": "markdown",
      "metadata": {
        "id": "QcR-_N-MGwT3",
        "colab_type": "text"
      },
      "source": [
        "So we have a lot going on right there. `ps` is overall dropout (helps with overfitting), `embed_p` is dropout on the embedding weights, `exp_rmspe` is Root Mean Square Percentage Error"
      ]
    },
    {
      "cell_type": "markdown",
      "metadata": {
        "id": "3dEMy7p3G0RQ",
        "colab_type": "text"
      },
      "source": [
        "Let's look at our model:"
      ]
    },
    {
      "cell_type": "code",
      "metadata": {
        "id": "nCv08TAfGvgi",
        "colab_type": "code",
        "outputId": "e9462ddf-fd0c-49ce-aac0-c28e3de716f2",
        "colab": {
          "base_uri": "https://localhost:8080/",
          "height": 1000
        }
      },
      "source": [
        "learn.summary()"
      ],
      "execution_count": 0,
      "outputs": [
        {
          "output_type": "execute_result",
          "data": {
            "text/plain": [
              "TabularModel (Input shape: ['512 x 26', '512 x 14'])\n",
              "================================================================\n",
              "Layer (type)         Output Shape         Param #    Trainable \n",
              "================================================================\n",
              "Embedding            512 x 81             90,396     True      \n",
              "________________________________________________________________\n",
              "Embedding            512 x 5              40         True      \n",
              "________________________________________________________________\n",
              "Embedding            512 x 3              12         True      \n",
              "________________________________________________________________\n",
              "Embedding            512 x 7              91         True      \n",
              "________________________________________________________________\n",
              "Embedding            512 x 11             352        True      \n",
              "________________________________________________________________\n",
              "Embedding            512 x 3              9          True      \n",
              "________________________________________________________________\n",
              "Embedding            512 x 10             260        True      \n",
              "________________________________________________________________\n",
              "Embedding            512 x 10             270        True      \n",
              "________________________________________________________________\n",
              "Embedding            512 x 4              20         True      \n",
              "________________________________________________________________\n",
              "Embedding            512 x 3              12         True      \n",
              "________________________________________________________________\n",
              "Embedding            512 x 3              12         True      \n",
              "________________________________________________________________\n",
              "Embedding            512 x 9              216        True      \n",
              "________________________________________________________________\n",
              "Embedding            512 x 5              45         True      \n",
              "________________________________________________________________\n",
              "Embedding            512 x 7              91         True      \n",
              "________________________________________________________________\n",
              "Embedding            512 x 15             795        True      \n",
              "________________________________________________________________\n",
              "Embedding            512 x 9              198        True      \n",
              "________________________________________________________________\n",
              "Embedding            512 x 5              35         True      \n",
              "________________________________________________________________\n",
              "Embedding            512 x 5              35         True      \n",
              "________________________________________________________________\n",
              "Embedding            512 x 3              12         True      \n",
              "________________________________________________________________\n",
              "Embedding            512 x 3              12         True      \n",
              "________________________________________________________________\n",
              "Embedding            512 x 5              45         True      \n",
              "________________________________________________________________\n",
              "Embedding            512 x 5              45         True      \n",
              "________________________________________________________________\n",
              "Embedding            512 x 3              9          True      \n",
              "________________________________________________________________\n",
              "Embedding            512 x 3              9          True      \n",
              "________________________________________________________________\n",
              "Embedding            512 x 3              9          True      \n",
              "________________________________________________________________\n",
              "Embedding            512 x 3              9          True      \n",
              "________________________________________________________________\n",
              "Dropout              512 x 223            0          False     \n",
              "________________________________________________________________\n",
              "BatchNorm1d          512 x 14             28         True      \n",
              "________________________________________________________________\n",
              "BatchNorm1d          512 x 237            474        True      \n",
              "________________________________________________________________\n",
              "Dropout              512 x 237            0          False     \n",
              "________________________________________________________________\n",
              "Linear               512 x 1000           237,000    True      \n",
              "________________________________________________________________\n",
              "ReLU                 512 x 1000           0          False     \n",
              "________________________________________________________________\n",
              "BatchNorm1d          512 x 1000           2,000      True      \n",
              "________________________________________________________________\n",
              "Dropout              512 x 1000           0          False     \n",
              "________________________________________________________________\n",
              "Linear               512 x 500            500,000    True      \n",
              "________________________________________________________________\n",
              "ReLU                 512 x 500            0          False     \n",
              "________________________________________________________________\n",
              "Linear               512 x 1              501        True      \n",
              "________________________________________________________________\n",
              "SigmoidRange         512 x 1              0          False     \n",
              "________________________________________________________________\n",
              "\n",
              "Total params: 833,042\n",
              "Total trainable params: 833,042\n",
              "Total non-trainable params: 0\n",
              "\n",
              "Optimizer used: <function Adam at 0x7f628c355f28>\n",
              "Loss function: FlattenedLoss of MSELoss()\n",
              "\n",
              "Callbacks:\n",
              "  - TrainEvalCallback\n",
              "  - Recorder\n",
              "  - ProgressCallback"
            ]
          },
          "metadata": {
            "tags": []
          },
          "execution_count": 35
        }
      ]
    },
    {
      "cell_type": "markdown",
      "metadata": {
        "id": "Fx7xsznzG6pM",
        "colab_type": "text"
      },
      "source": [
        "## Training\n",
        "\n",
        "Now let's fit!"
      ]
    },
    {
      "cell_type": "code",
      "metadata": {
        "id": "858IHW5uG161",
        "colab_type": "code",
        "outputId": "b5fab3e1-4ff2-49f1-84f8-4d332a18d328",
        "colab": {
          "base_uri": "https://localhost:8080/",
          "height": 301
        }
      },
      "source": [
        "learn.lr_find()"
      ],
      "execution_count": 0,
      "outputs": [
        {
          "output_type": "display_data",
          "data": {
            "text/html": [
              ""
            ],
            "text/plain": [
              "<IPython.core.display.HTML object>"
            ]
          },
          "metadata": {
            "tags": []
          }
        },
        {
          "output_type": "execute_result",
          "data": {
            "text/plain": [
              "(0.001096478197723627, 0.0003311311302240938)"
            ]
          },
          "metadata": {
            "tags": []
          },
          "execution_count": 36
        },
        {
          "output_type": "display_data",
          "data": {
            "image/png": "[encoded data removed]",
            "text/plain": [
              "<Figure size 432x288 with 1 Axes>"
            ]
          },
          "metadata": {
            "tags": []
          }
        }
      ]
    },
    {
      "cell_type": "code",
      "metadata": {
        "id": "z8f4TC-gG8j9",
        "colab_type": "code",
        "outputId": "ea40e5e3-b0de-4314-dcf4-99370fd74102",
        "colab": {
          "base_uri": "https://localhost:8080/",
          "height": 202
        }
      },
      "source": [
        "learn.fit_one_cycle(5, 3e-3, wd=0.2)"
      ],
      "execution_count": 0,
      "outputs": [
        {
          "output_type": "display_data",
          "data": {
            "text/html": [
              "<table border=\"1\" class=\"dataframe\">\n",
              "  <thead>\n",
              "    <tr style=\"text-align: left;\">\n",
              "      <th>epoch</th>\n",
              "      <th>train_loss</th>\n",
              "      <th>valid_loss</th>\n",
              "      <th>_exp_rmspe</th>\n",
              "      <th>time</th>\n",
              "    </tr>\n",
              "  </thead>\n",
              "  <tbody>\n",
              "    <tr>\n",
              "      <td>0</td>\n",
              "      <td>0.024755</td>\n",
              "      <td>0.021618</td>\n",
              "      <td>0.155595</td>\n",
              "      <td>00:28</td>\n",
              "    </tr>\n",
              "    <tr>\n",
              "      <td>1</td>\n",
              "      <td>0.014523</td>\n",
              "      <td>0.018060</td>\n",
              "      <td>0.128404</td>\n",
              "      <td>00:28</td>\n",
              "    </tr>\n",
              "    <tr>\n",
              "      <td>2</td>\n",
              "      <td>0.011341</td>\n",
              "      <td>0.012914</td>\n",
              "      <td>0.116598</td>\n",
              "      <td>00:27</td>\n",
              "    </tr>\n",
              "    <tr>\n",
              "      <td>3</td>\n",
              "      <td>0.008629</td>\n",
              "      <td>0.012338</td>\n",
              "      <td>0.111028</td>\n",
              "      <td>00:27</td>\n",
              "    </tr>\n",
              "    <tr>\n",
              "      <td>4</td>\n",
              "      <td>0.007297</td>\n",
              "      <td>0.011332</td>\n",
              "      <td>0.108336</td>\n",
              "      <td>00:27</td>\n",
              "    </tr>\n",
              "  </tbody>\n",
              "</table>"
            ],
            "text/plain": [
              "<IPython.core.display.HTML object>"
            ]
          },
          "metadata": {
            "tags": []
          }
        }
      ]
    },
    {
      "cell_type": "markdown",
      "metadata": {
        "id": "GDFLO43WIGyT",
        "colab_type": "text"
      },
      "source": [
        "For comparison, an `exp_rmspe` of 0.108 was 10th place"
      ]
    },
    {
      "cell_type": "markdown",
      "metadata": {
        "id": "-p53pj0PIM6N",
        "colab_type": "text"
      },
      "source": [
        "## Inference on a test set:\n",
        "Now that we have a model, we want to make our final competitions that would be submitted to a competition, as such, we can only make the predictions and submit them as a CSV.\n",
        "\n",
        "We'll practice bringing in an exported model just to show that you do not need the original data. "
      ]
    },
    {
      "cell_type": "code",
      "metadata": {
        "id": "3N9D0bpnG_F-",
        "colab_type": "code",
        "colab": {}
      },
      "source": [
        "learn.export('myModel')"
      ],
      "execution_count": 0,
      "outputs": []
    },
    {
      "cell_type": "code",
      "metadata": {
        "id": "lzBrOwRSITbS",
        "colab_type": "code",
        "colab": {}
      },
      "source": [
        "del learn"
      ],
      "execution_count": 0,
      "outputs": []
    },
    {
      "cell_type": "code",
      "metadata": {
        "id": "tDU_h0OYIZ6K",
        "colab_type": "code",
        "colab": {}
      },
      "source": [
        "learn = load_learner('myModel')"
      ],
      "execution_count": 0,
      "outputs": []
    },
    {
      "cell_type": "markdown",
      "metadata": {
        "id": "hB_k1PhjIfPf",
        "colab_type": "text"
      },
      "source": [
        "Now we generate our `test_dl` from our `test_df`"
      ]
    },
    {
      "cell_type": "code",
      "metadata": {
        "id": "AWQ5BgC-IiC9",
        "colab_type": "code",
        "colab": {}
      },
      "source": [
        "dl = learn.dls.test_dl(test_df)"
      ],
      "execution_count": 0,
      "outputs": []
    },
    {
      "cell_type": "markdown",
      "metadata": {
        "id": "8A2h6ONyIb4Q",
        "colab_type": "text"
      },
      "source": [
        "We need to tell the `Learner` to return the predictions for the test set we added"
      ]
    },
    {
      "cell_type": "code",
      "metadata": {
        "id": "216jLOVCIbXq",
        "colab_type": "code",
        "outputId": "3cdcbab4-c562-47a0-95f7-577af4d7ba49",
        "colab": {
          "base_uri": "https://localhost:8080/",
          "height": 17
        }
      },
      "source": [
        "raw_test_preds = learn.get_preds(dl=dl)"
      ],
      "execution_count": 0,
      "outputs": [
        {
          "output_type": "display_data",
          "data": {
            "text/html": [
              ""
            ],
            "text/plain": [
              "<IPython.core.display.HTML object>"
            ]
          },
          "metadata": {
            "tags": []
          }
        }
      ]
    },
    {
      "cell_type": "markdown",
      "metadata": {
        "id": "Ife9oodUJADa",
        "colab_type": "text"
      },
      "source": [
        "Let's take a peek"
      ]
    },
    {
      "cell_type": "code",
      "metadata": {
        "id": "YCStC_DEI8aq",
        "colab_type": "code",
        "outputId": "f5b57e10-f8f5-4661-aa25-6a29a40aa360",
        "colab": {
          "base_uri": "https://localhost:8080/",
          "height": 139
        }
      },
      "source": [
        "raw_test_preds"
      ],
      "execution_count": 0,
      "outputs": [
        {
          "output_type": "execute_result",
          "data": {
            "text/plain": [
              "(tensor([[ 8.4058],\n",
              "         [ 8.9047],\n",
              "         [ 9.1307],\n",
              "         ...,\n",
              "         [ 8.6986],\n",
              "         [10.0067],\n",
              "         [ 8.8282]]), None)"
            ]
          },
          "metadata": {
            "tags": []
          },
          "execution_count": 43
        }
      ]
    },
    {
      "cell_type": "markdown",
      "metadata": {
        "id": "bZ9acRLLJCkT",
        "colab_type": "text"
      },
      "source": [
        "You'll notice `[0]` contains our predictions, and `[1]` contains any labels (if we had any). This is nice because if we accidently run `learn.validate()` on a non-labeled test set, we get the following:"
      ]
    },
    {
      "cell_type": "code",
      "metadata": {
        "id": "fPTmKnbcJB0f",
        "colab_type": "code",
        "outputId": "8718dc0a-e849-4ae9-f167-57fbe4ba011c",
        "colab": {
          "base_uri": "https://localhost:8080/",
          "height": 35
        }
      },
      "source": [
        "learn.validate(dl=dl)"
      ],
      "execution_count": 0,
      "outputs": [
        {
          "output_type": "display_data",
          "data": {
            "text/html": [
              ""
            ],
            "text/plain": [
              "<IPython.core.display.HTML object>"
            ]
          },
          "metadata": {
            "tags": []
          }
        },
        {
          "output_type": "execute_result",
          "data": {
            "text/plain": [
              "(#2) [None,None]"
            ]
          },
          "metadata": {
            "tags": []
          },
          "execution_count": 44
        }
      ]
    },
    {
      "cell_type": "markdown",
      "metadata": {
        "id": "gYppCxjCJOBF",
        "colab_type": "text"
      },
      "source": [
        "Still runs, just there are no labels so it's `None`"
      ]
    },
    {
      "cell_type": "markdown",
      "metadata": {
        "id": "y4Hjv6weKMzW",
        "colab_type": "text"
      },
      "source": [
        "Now back to our predictions! We need to undo our `log` transform first:"
      ]
    },
    {
      "cell_type": "code",
      "metadata": {
        "id": "vzSA68K5JMy0",
        "colab_type": "code",
        "outputId": "e4140a5a-5edd-4004-bf85-90b0e78e9432",
        "colab": {
          "base_uri": "https://localhost:8080/",
          "height": 139
        }
      },
      "source": [
        "np.exp(raw_test_preds[0])"
      ],
      "execution_count": 0,
      "outputs": [
        {
          "output_type": "execute_result",
          "data": {
            "text/plain": [
              "tensor([[ 4472.7207],\n",
              "        [ 7366.4399],\n",
              "        [ 9234.3789],\n",
              "        ...,\n",
              "        [ 5994.3242],\n",
              "        [22174.3809],\n",
              "        [ 6823.8389]])"
            ]
          },
          "metadata": {
            "tags": []
          },
          "execution_count": 45
        }
      ]
    },
    {
      "cell_type": "code",
      "metadata": {
        "id": "NtB4vcBQKckV",
        "colab_type": "code",
        "colab": {}
      },
      "source": [
        "test_preds = np.exp(raw_test_preds[0]).numpy().T[0]"
      ],
      "execution_count": 0,
      "outputs": []
    },
    {
      "cell_type": "markdown",
      "metadata": {
        "id": "AWUCSgELKiVO",
        "colab_type": "text"
      },
      "source": [
        "(If you want to learn about what `T` does, compare below):"
      ]
    },
    {
      "cell_type": "code",
      "metadata": {
        "id": "EJQay30OKnPC",
        "colab_type": "code",
        "outputId": "35b0ed3e-7598-4281-8dbe-5112af7d8215",
        "colab": {
          "base_uri": "https://localhost:8080/",
          "height": 139
        }
      },
      "source": [
        "raw_test_preds[0].numpy()"
      ],
      "execution_count": 0,
      "outputs": [
        {
          "output_type": "execute_result",
          "data": {
            "text/plain": [
              "array([[ 8.405752],\n",
              "       [ 8.90469 ],\n",
              "       [ 9.130689],\n",
              "       ...,\n",
              "       [ 8.698568],\n",
              "       [10.006693],\n",
              "       [ 8.828177]], dtype=float32)"
            ]
          },
          "metadata": {
            "tags": []
          },
          "execution_count": 47
        }
      ]
    },
    {
      "cell_type": "code",
      "metadata": {
        "id": "JAuGeRGpKgxZ",
        "colab_type": "code",
        "outputId": "fbae7e8e-011b-40e0-ab44-ecbb8f8e8d63",
        "colab": {
          "base_uri": "https://localhost:8080/",
          "height": 52
        }
      },
      "source": [
        "test_preds"
      ],
      "execution_count": 0,
      "outputs": [
        {
          "output_type": "execute_result",
          "data": {
            "text/plain": [
              "array([ 4472.7207,  7366.44  ,  9234.379 , ...,  5994.324 , 22174.38  ,\n",
              "        6823.839 ], dtype=float32)"
            ]
          },
          "metadata": {
            "tags": []
          },
          "execution_count": 48
        }
      ]
    },
    {
      "cell_type": "markdown",
      "metadata": {
        "id": "6fuis7vOKuO0",
        "colab_type": "text"
      },
      "source": [
        "Now we can submit to Kaggle!"
      ]
    },
    {
      "cell_type": "code",
      "metadata": {
        "id": "jRAANEM_KhWE",
        "colab_type": "code",
        "colab": {}
      },
      "source": [
        "test_df['Sales'] = test_preds\n",
        "test_df[['Id', \"Sales\"]] = test_df[['Id', 'Sales']].astype('int')"
      ],
      "execution_count": 0,
      "outputs": []
    },
    {
      "cell_type": "markdown",
      "metadata": {
        "id": "DlRE4T47KyCa",
        "colab_type": "text"
      },
      "source": [
        "And finally we make our submission. **NOTE:** remove the index when generating your submission always!"
      ]
    },
    {
      "cell_type": "code",
      "metadata": {
        "id": "FODy5FgvKw56",
        "colab_type": "code",
        "colab": {}
      },
      "source": [
        "test_df[['Id', 'Sales']].to_csv('submission.csv', index=False)"
      ],
      "execution_count": 0,
      "outputs": []
    },
    {
      "cell_type": "markdown",
      "metadata": {
        "id": "NcEMAb-0LXOH",
        "colab_type": "text"
      },
      "source": [
        "# Permutation Importance\n",
        "\n",
        "Permutation importance is a technique in which we shuffle each column in a dataframe and analyze how changing a particular column affected our `y` values. The more that it was affected, the more \"important\" we can (generally) call a variable in our neural network. Let's build a quick algorithm to do this:"
      ]
    },
    {
      "cell_type": "code",
      "metadata": {
        "id": "5oXooqbJLtWj",
        "colab_type": "code",
        "colab": {}
      },
      "source": [
        "class PermutationImportance():\n",
        "  \"Calculate and plot the permutation importance\"\n",
        "  def __init__(self, learn:Learner, df=None, bs=None):\n",
        "    \"Initialize with a test dataframe, a learner, and a metric\"\n",
        "    self.learn = learn\n",
        "    self.df = df\n",
        "    bs = bs if bs is not None else learn.dls.bs\n",
        "    if self.df is not None:\n",
        "      self.dl = learn.dls.test_dl(self.df, bs=bs)\n",
        "    else:\n",
        "      self.dl = learn.dls[1]\n",
        "    self.x_names = learn.dls.x_names.filter(lambda x: '_na' not in x)\n",
        "    self.na = learn.dls.x_names.filter(lambda x: '_na' in x)\n",
        "    self.y = dls.y_names\n",
        "    self.results = self.calc_feat_importance()\n",
        "    self.plot_importance(self.ord_dic_to_df(self.results))\n",
        "\n",
        "  def measure_col(self, name:str):\n",
        "    \"Measures change after column shuffle\"\n",
        "    col = [name]\n",
        "    if f'{name}_na' in self.na: col.append(name)\n",
        "    orig = self.dl.items[col].values\n",
        "    perm = np.random.permutation(len(orig))\n",
        "    self.dl.items[col] = self.dl.items[col].values[perm]\n",
        "    metric = learn.validate(dl=self.dl)[1]\n",
        "    self.dl.items[col] = orig\n",
        "    return metric\n",
        "\n",
        "  def calc_feat_importance(self):\n",
        "    \"Calculates permutation importance by shuffling a column on a percentage scale\"\n",
        "    print('Getting base error')\n",
        "    base_error = self.learn.validate(dl=self.dl)[1]\n",
        "    self.importance = {}\n",
        "    pbar = progress_bar(self.x_names)\n",
        "    print('Calculating Permutation Importance')\n",
        "    for col in pbar:\n",
        "      self.importance[col] = self.measure_col(col)\n",
        "    for key, value in self.importance.items():\n",
        "      self.importance[key] = (base_error-value)/base_error #this can be adjusted\n",
        "    return OrderedDict(sorted(self.importance.items(), key=lambda kv: kv[1], reverse=True))\n",
        "\n",
        "  def ord_dic_to_df(self, dict:OrderedDict):\n",
        "    return pd.DataFrame([[k, v] for k, v in dict.items()], columns=['feature', 'importance'])\n",
        "\n",
        "  def plot_importance(self, df:pd.DataFrame, limit=20, asc=False, **kwargs):\n",
        "    \"Plot importance with an optional limit to how many variables shown\"\n",
        "    df_copy = df.copy()\n",
        "    df_copy['feature'] = df_copy['feature'].str.slice(0,25)\n",
        "    df_copy = df_copy.sort_values(by='importance', ascending=asc)[:limit].sort_values(by='importance', ascending=not(asc))\n",
        "    ax = df_copy.plot.barh(x='feature', y='importance', sort_columns=True, **kwargs)\n",
        "    for p in ax.patches:\n",
        "      ax.annotate(f'{p.get_width():.4f}', ((p.get_width() * 1.005), p.get_y()  * 1.005))"
      ],
      "execution_count": 0,
      "outputs": []
    },
    {
      "cell_type": "markdown",
      "metadata": {
        "id": "ikkALKBeSDu3",
        "colab_type": "text"
      },
      "source": [
        "And now we can simply call `PermutationImportance` to run it!"
      ]
    },
    {
      "cell_type": "code",
      "metadata": {
        "id": "Vi-19_afMHbz",
        "colab_type": "code",
        "outputId": "97c95d15-a4c2-4640-cd4c-5b3c12a5e989",
        "colab": {
          "base_uri": "https://localhost:8080/",
          "height": 321
        }
      },
      "source": [
        "res = PermutationImportance(learn, train_df.iloc[:1000], bs=64)"
      ],
      "execution_count": 0,
      "outputs": [
        {
          "output_type": "stream",
          "text": [
            "Getting base error\n"
          ],
          "name": "stdout"
        },
        {
          "output_type": "display_data",
          "data": {
            "text/html": [
              ""
            ],
            "text/plain": [
              "<IPython.core.display.HTML object>"
            ]
          },
          "metadata": {
            "tags": []
          }
        },
        {
          "output_type": "stream",
          "text": [
            "Calculating Permutation Importance\n"
          ],
          "name": "stdout"
        },
        {
          "output_type": "display_data",
          "data": {
            "text/html": [
              "\n",
              "    <div>\n",
              "        <style>\n",
              "            /* Turns off some styling */\n",
              "            progress {\n",
              "                /* gets rid of default border in Firefox and Opera. */\n",
              "                border: none;\n",
              "                /* Needs to be in here for Safari polyfill so background images work as expected. */\n",
              "                background-size: auto;\n",
              "            }\n",
              "            .progress-bar-interrupted, .progress-bar-interrupted::-webkit-progress-bar {\n",
              "                background: #F44336;\n",
              "            }\n",
              "        </style>\n",
              "      <progress value='38' class='' max='38', style='width:300px; height:20px; vertical-align: middle;'></progress>\n",
              "      100.00% [38/38 00:05<00:00]\n",
              "    </div>\n",
              "    "
            ],
            "text/plain": [
              "<IPython.core.display.HTML object>"
            ]
          },
          "metadata": {
            "tags": []
          }
        },
        {
          "output_type": "display_data",
          "data": {
            "text/html": [
              ""
            ],
            "text/plain": [
              "<IPython.core.display.HTML object>"
            ]
          },
          "metadata": {
            "tags": []
          }
        },
        {
          "output_type": "display_data",
          "data": {
            "text/html": [
              ""
            ],
            "text/plain": [
              "<IPython.core.display.HTML object>"
            ]
          },
          "metadata": {
            "tags": []
          }
        },
        {
          "output_type": "display_data",
          "data": {
            "text/html": [
              ""
            ],
            "text/plain": [
              "<IPython.core.display.HTML object>"
            ]
          },
          "metadata": {
            "tags": []
          }
        },
        {
          "output_type": "display_data",
          "data": {
            "text/html": [
              ""
            ],
            "text/plain": [
              "<IPython.core.display.HTML object>"
            ]
          },
          "metadata": {
            "tags": []
          }
        },
        {
          "output_type": "display_data",
          "data": {
            "text/html": [
              ""
            ],
            "text/plain": [
              "<IPython.core.display.HTML object>"
            ]
          },
          "metadata": {
            "tags": []
          }
        },
        {
          "output_type": "display_data",
          "data": {
            "text/html": [
              ""
            ],
            "text/plain": [
              "<IPython.core.display.HTML object>"
            ]
          },
          "metadata": {
            "tags": []
          }
        },
        {
          "output_type": "display_data",
          "data": {
            "text/html": [
              ""
            ],
            "text/plain": [
              "<IPython.core.display.HTML object>"
            ]
          },
          "metadata": {
            "tags": []
          }
        },
        {
          "output_type": "display_data",
          "data": {
            "text/html": [
              ""
            ],
            "text/plain": [
              "<IPython.core.display.HTML object>"
            ]
          },
          "metadata": {
            "tags": []
          }
        },
        {
          "output_type": "display_data",
          "data": {
            "text/html": [
              ""
            ],
            "text/plain": [
              "<IPython.core.display.HTML object>"
            ]
          },
          "metadata": {
            "tags": []
          }
        },
        {
          "output_type": "display_data",
          "data": {
            "text/html": [
              ""
            ],
            "text/plain": [
              "<IPython.core.display.HTML object>"
            ]
          },
          "metadata": {
            "tags": []
          }
        },
        {
          "output_type": "display_data",
          "data": {
            "text/html": [
              ""
            ],
            "text/plain": [
              "<IPython.core.display.HTML object>"
            ]
          },
          "metadata": {
            "tags": []
          }
        },
        {
          "output_type": "display_data",
          "data": {
            "text/html": [
              ""
            ],
            "text/plain": [
              "<IPython.core.display.HTML object>"
            ]
          },
          "metadata": {
            "tags": []
          }
        },
        {
          "output_type": "display_data",
          "data": {
            "text/html": [
              ""
            ],
            "text/plain": [
              "<IPython.core.display.HTML object>"
            ]
          },
          "metadata": {
            "tags": []
          }
        },
        {
          "output_type": "display_data",
          "data": {
            "text/html": [
              ""
            ],
            "text/plain": [
              "<IPython.core.display.HTML object>"
            ]
          },
          "metadata": {
            "tags": []
          }
        },
        {
          "output_type": "display_data",
          "data": {
            "text/html": [
              ""
            ],
            "text/plain": [
              "<IPython.core.display.HTML object>"
            ]
          },
          "metadata": {
            "tags": []
          }
        },
        {
          "output_type": "display_data",
          "data": {
            "text/html": [
              ""
            ],
            "text/plain": [
              "<IPython.core.display.HTML object>"
            ]
          },
          "metadata": {
            "tags": []
          }
        },
        {
          "output_type": "display_data",
          "data": {
            "text/html": [
              ""
            ],
            "text/plain": [
              "<IPython.core.display.HTML object>"
            ]
          },
          "metadata": {
            "tags": []
          }
        },
        {
          "output_type": "display_data",
          "data": {
            "text/html": [
              ""
            ],
            "text/plain": [
              "<IPython.core.display.HTML object>"
            ]
          },
          "metadata": {
            "tags": []
          }
        },
        {
          "output_type": "display_data",
          "data": {
            "text/html": [
              ""
            ],
            "text/plain": [
              "<IPython.core.display.HTML object>"
            ]
          },
          "metadata": {
            "tags": []
          }
        },
        {
          "output_type": "display_data",
          "data": {
            "text/html": [
              ""
            ],
            "text/plain": [
              "<IPython.core.display.HTML object>"
            ]
          },
          "metadata": {
            "tags": []
          }
        },
        {
          "output_type": "display_data",
          "data": {
            "text/html": [
              ""
            ],
            "text/plain": [
              "<IPython.core.display.HTML object>"
            ]
          },
          "metadata": {
            "tags": []
          }
        },
        {
          "output_type": "display_data",
          "data": {
            "text/html": [
              ""
            ],
            "text/plain": [
              "<IPython.core.display.HTML object>"
            ]
          },
          "metadata": {
            "tags": []
          }
        },
        {
          "output_type": "display_data",
          "data": {
            "text/html": [
              ""
            ],
            "text/plain": [
              "<IPython.core.display.HTML object>"
            ]
          },
          "metadata": {
            "tags": []
          }
        },
        {
          "output_type": "display_data",
          "data": {
            "text/html": [
              ""
            ],
            "text/plain": [
              "<IPython.core.display.HTML object>"
            ]
          },
          "metadata": {
            "tags": []
          }
        },
        {
          "output_type": "display_data",
          "data": {
            "text/html": [
              ""
            ],
            "text/plain": [
              "<IPython.core.display.HTML object>"
            ]
          },
          "metadata": {
            "tags": []
          }
        },
        {
          "output_type": "display_data",
          "data": {
            "text/html": [
              ""
            ],
            "text/plain": [
              "<IPython.core.display.HTML object>"
            ]
          },
          "metadata": {
            "tags": []
          }
        },
        {
          "output_type": "display_data",
          "data": {
            "text/html": [
              ""
            ],
            "text/plain": [
              "<IPython.core.display.HTML object>"
            ]
          },
          "metadata": {
            "tags": []
          }
        },
        {
          "output_type": "display_data",
          "data": {
            "text/html": [
              ""
            ],
            "text/plain": [
              "<IPython.core.display.HTML object>"
            ]
          },
          "metadata": {
            "tags": []
          }
        },
        {
          "output_type": "display_data",
          "data": {
            "text/html": [
              ""
            ],
            "text/plain": [
              "<IPython.core.display.HTML object>"
            ]
          },
          "metadata": {
            "tags": []
          }
        },
        {
          "output_type": "display_data",
          "data": {
            "text/html": [
              ""
            ],
            "text/plain": [
              "<IPython.core.display.HTML object>"
            ]
          },
          "metadata": {
            "tags": []
          }
        },
        {
          "output_type": "display_data",
          "data": {
            "text/html": [
              ""
            ],
            "text/plain": [
              "<IPython.core.display.HTML object>"
            ]
          },
          "metadata": {
            "tags": []
          }
        },
        {
          "output_type": "display_data",
          "data": {
            "text/html": [
              ""
            ],
            "text/plain": [
              "<IPython.core.display.HTML object>"
            ]
          },
          "metadata": {
            "tags": []
          }
        },
        {
          "output_type": "display_data",
          "data": {
            "text/html": [
              ""
            ],
            "text/plain": [
              "<IPython.core.display.HTML object>"
            ]
          },
          "metadata": {
            "tags": []
          }
        },
        {
          "output_type": "display_data",
          "data": {
            "text/html": [
              ""
            ],
            "text/plain": [
              "<IPython.core.display.HTML object>"
            ]
          },
          "metadata": {
            "tags": []
          }
        },
        {
          "output_type": "display_data",
          "data": {
            "text/html": [
              ""
            ],
            "text/plain": [
              "<IPython.core.display.HTML object>"
            ]
          },
          "metadata": {
            "tags": []
          }
        },
        {
          "output_type": "display_data",
          "data": {
            "text/html": [
              ""
            ],
            "text/plain": [
              "<IPython.core.display.HTML object>"
            ]
          },
          "metadata": {
            "tags": []
          }
        },
        {
          "output_type": "display_data",
          "data": {
            "text/html": [
              ""
            ],
            "text/plain": [
              "<IPython.core.display.HTML object>"
            ]
          },
          "metadata": {
            "tags": []
          }
        },
        {
          "output_type": "display_data",
          "data": {
            "text/html": [
              ""
            ],
            "text/plain": [
              "<IPython.core.display.HTML object>"
            ]
          },
          "metadata": {
            "tags": []
          }
        },
        {
          "output_type": "display_data",
          "data": {
            "image/png": "[encoded data removed]",
            "text/plain": [
              "<Figure size 432x288 with 1 Axes>"
            ]
          },
          "metadata": {
            "tags": []
          }
        }
      ]
    },
    {
      "cell_type": "code",
      "metadata": {
        "id": "ykNdVb5uMRYT",
        "colab_type": "code",
        "outputId": "beefdfa8-8aca-4d12-bc1e-e2c810b94926",
        "colab": {
          "base_uri": "https://localhost:8080/",
          "height": 676
        }
      },
      "source": [
        "res.importance"
      ],
      "execution_count": 0,
      "outputs": [
        {
          "output_type": "execute_result",
          "data": {
            "text/plain": [
              "{'AfterStateHoliday': -0.001553551199172124,\n",
              " 'Assortment': -0.07919486629651797,\n",
              " 'BeforeStateHoliday': -0.005201604262893468,\n",
              " 'CloudCover': 0.00048355000526950506,\n",
              " 'CompetitionDistance': -0.019016574246159386,\n",
              " 'CompetitionMonthsOpen': -0.10841693568364925,\n",
              " 'CompetitionOpenSinceYear': -0.016683214079184133,\n",
              " 'Day': 0.0,\n",
              " 'DayOfWeek': 0.0,\n",
              " 'Events': 0.001559851271622957,\n",
              " 'Max_Humidity': -0.009709267212128494,\n",
              " 'Max_TemperatureC': -0.009958158963272522,\n",
              " 'Max_Wind_SpeedKm_h': 0.004356072317053868,\n",
              " 'Mean_Humidity': 0.00033647053607783155,\n",
              " 'Mean_TemperatureC': 0.00034557064072903505,\n",
              " 'Mean_Wind_SpeedKm_h': -0.019977296405575332,\n",
              " 'Min_Humidity': -0.0002463250549603543,\n",
              " 'Min_TemperatureC': 0.0013973716253292468,\n",
              " 'Month': 0.0,\n",
              " 'Promo': 0.0,\n",
              " 'Promo2SinceYear': -0.020822906130087162,\n",
              " 'Promo2Weeks': -0.13944067023437437,\n",
              " 'PromoInterval': -0.03426368292124248,\n",
              " 'Promo_bw': 0.0,\n",
              " 'Promo_fw': -0.028156268241529222,\n",
              " 'SchoolHoliday': 0.004849966885730297,\n",
              " 'SchoolHoliday_bw': -0.037591132298021426,\n",
              " 'SchoolHoliday_fw': 0.0028854331824815986,\n",
              " 'State': -0.03799332581213573,\n",
              " 'StateHoliday': 0.0,\n",
              " 'StateHoliday_bw': 0.0,\n",
              " 'StateHoliday_fw': 0.0,\n",
              " 'Store': -3.867236862112803,\n",
              " 'StoreType': -0.008641132706359456,\n",
              " 'Week': 0.0,\n",
              " 'Year': 0.0,\n",
              " 'trend': -0.010222061998157424,\n",
              " 'trend_DE': 0.0}"
            ]
          },
          "metadata": {
            "tags": []
          },
          "execution_count": 53
        }
      ]
    },
    {
      "cell_type": "code",
      "metadata": {
        "id": "7dsgJ8alSGzh",
        "colab_type": "code",
        "colab": {}
      },
      "source": [
        ""
      ],
      "execution_count": 0,
      "outputs": []
    }
  ]
}